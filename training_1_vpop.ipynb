{
 "cells": [
  {
   "cell_type": "markdown",
   "metadata": {
    "jp-MarkdownHeadingCollapsed": true
   },
   "source": [
    "## Setup and Utility"
   ]
  },
  {
   "cell_type": "code",
   "execution_count": null,
   "metadata": {},
   "outputs": [],
   "source": [
    "from abm import virtual_population\n",
    "import pandas as pd\n",
    "from matplotlib import pyplot as plt\n",
    "import numpy as np"
   ]
  },
  {
   "cell_type": "code",
   "execution_count": null,
   "metadata": {},
   "outputs": [],
   "source": [
    "# Plotting and analysis utility\n",
    "def to_cdf(data):\n",
    "    data_sorted = np.sort(data)\n",
    "    n = len(data)\n",
    "    return data_sorted, np.linspace(1, n, n)/n"
   ]
  },
  {
   "cell_type": "markdown",
   "metadata": {},
   "source": [
    "## Task 1: load the parameter table from the dependencies"
   ]
  },
  {
   "cell_type": "code",
   "execution_count": null,
   "metadata": {},
   "outputs": [],
   "source": [
    "# Use pd.read_csv to load the included dependency for the parameter table solution\n",
    "\n",
    "parameter_table = \n",
    "display(parameter_table)"
   ]
  },
  {
   "cell_type": "markdown",
   "metadata": {},
   "source": [
    "This is the same format as used for optimization earlier in the day. This defines a prior on your parameters."
   ]
  },
  {
   "cell_type": "markdown",
   "metadata": {},
   "source": [
    "## Task 2: build the table describing the clinical data you want to match\n",
    "This part of the example uses empirical distributions. See below for how to use a multivariate normal distribution that includes a fit of covariance."
   ]
  },
  {
   "cell_type": "code",
   "execution_count": null,
   "metadata": {},
   "outputs": [],
   "source": [
    "# The synthetic data for the toy illustration model has two outputs:\n",
    "# \"output0\" and \"output1\", they are suffixed with their time,\n",
    "# both at \"0 days\" --> common for reproducing baseline characteristics of a population\n",
    "\n",
    "synthetic_clinical = pd.read_csv('clinical_empirical.csv')\n",
    "synthetic_clinical.head()"
   ]
  },
  {
   "cell_type": "code",
   "execution_count": null,
   "metadata": {},
   "outputs": [],
   "source": [
    "# Build an empirical distribution from the synthetic data\n",
    "# - Use np.percentile(...)\n",
    "# - Access a vector of clinical data using synthetic_clinical[ output column name ]\n",
    "# - Choose percentiles from 0 to 100 by 10s to create 11 \"bin edges\" for each output\n",
    "\n",
    "### Begin your edits\n",
    "\n",
    "edges_output_0 = \n",
    "edges_output_1 = \n",
    "\n",
    "### End your edits\n",
    "\n",
    "probs = [0.1] * 10 # python syntax to make a 10 element list of 0.1 probabiliteies\n",
    "\n",
    "# Simple code to build table; this could also be supplied as a CSV file dependency to reduce code.\n",
    "histogram_table = pd.DataFrame(dict(\n",
    "    target=['output0', 'output1'],\n",
    "    distribution=['HistogramDistribution', 'HistogramDistribution'],\n",
    "    distribution_unit = [1, 1],\n",
    "    bin_edges=[\n",
    "        list(edges_output_0),\n",
    "        list(edges_output_1),\n",
    "    ],\n",
    "    bin_probabilities=[\n",
    "        probs,\n",
    "        probs,\n",
    "    ],\n",
    "    time= [0, 0], # time of observations\n",
    "    time_unit = ['d', 'd'],\n",
    "    smoothness=[0,0],\n",
    "))"
   ]
  },
  {
   "cell_type": "code",
   "execution_count": null,
   "metadata": {},
   "outputs": [],
   "source": [
    "# Inspect the table defining the \"histogram\" or empirical distribution of the clinical data\n",
    "display(histogram_table)"
   ]
  },
  {
   "cell_type": "markdown",
   "metadata": {},
   "source": [
    "## Task 3: Run the virtual population with the provided defaults\n",
    "We would explore alternative configurations and when to use them in a longer course. "
   ]
  },
  {
   "cell_type": "code",
   "execution_count": null,
   "metadata": {},
   "outputs": [],
   "source": [
    "vpop = virtual_population(\n",
    "    distributions=histogram_table,\n",
    "    proposal_distributions=histogram_table,\n",
    "    models='./fast_vpop_demo.model',\n",
    "    parameters= parameter_table,\n",
    "    proposal_method = \"ClassifierSurrogate\",\n",
    "    proposal_options = {'sample_n': 5000, 'max_iters': 10, 'init_batch_size': 1000, 'max_batch_size': 1000},\n",
    "    virtual_options = {'expected_n': 200},\n",
    "    seed=15,\n",
    ")"
   ]
  },
  {
   "cell_type": "code",
   "execution_count": null,
   "metadata": {},
   "outputs": [],
   "source": [
    "out = vpop.virtual_population_predictions()"
   ]
  },
  {
   "cell_type": "markdown",
   "metadata": {},
   "source": [
    "## Plot and compare results"
   ]
  },
  {
   "cell_type": "code",
   "execution_count": null,
   "metadata": {},
   "outputs": [],
   "source": [
    "prior_samples = np.exp(np.random.uniform(np.log(2), np.log(10), size=10000))"
   ]
  },
  {
   "cell_type": "code",
   "execution_count": null,
   "metadata": {},
   "outputs": [],
   "source": [
    "# Plot the cummulative distribution of the virtual popultion and the clinical population\n",
    "x_prior, cdf_prior = to_cdf(prior_samples)\n",
    "x_vpop, cdf_vpop = to_cdf(out['output0_0:d'])\n",
    "x_clinical, cdf_clinical = to_cdf(synthetic_clinical['output0_0:d'])\n",
    "\n",
    "plt.plot(x_vpop, cdf_vpop, label='Virtual Population')\n",
    "plt.plot(x_clinical, cdf_clinical, label='Clinical Distribution')\n",
    "\n",
    "\n",
    "#### Additional information for illustration\n",
    "\n",
    "# plt.plot(x_prior, cdf_prior, label='Prior')\n",
    "# for e in histogram_table.bin_edges[0]:\n",
    "#     plt.axvline(e, linestyle='--', color='k')\n",
    "\n",
    "plt.legend()\n",
    "plt.xlim([1.5, 8.5])\n",
    "plt.show()"
   ]
  },
  {
   "cell_type": "markdown",
   "metadata": {},
   "source": [
    "## Alternative Proposal Using MVN\n",
    "Many times, covarying observations are easier to model with multivariate normals. They are easier to interpet and computationally easier, but have less freedom than empirical distributions.\n",
    "\n",
    "Robust multivariate empirical distributions are on our roadmap."
   ]
  },
  {
   "cell_type": "code",
   "execution_count": null,
   "metadata": {},
   "outputs": [],
   "source": [
    "mvn_table = pd.DataFrame(dict(\n",
    "    target=[['output0', 'output1']],\n",
    "    distribution=['MultivariateNormalDistribution'],\n",
    "    distribution_unit = [[1,1]],\n",
    "    measurements=[[5, 5]],\n",
    "    measurements_unit=[['1', '1']],\n",
    "    covariance=[\n",
    "        [[1, .9], [.9, 1]]\n",
    "    ],\n",
    "    time=[[0]*2],\n",
    "    time_unit=[['d', 'd']]\n",
    "))\n",
    "\n",
    "display(mvn_table)"
   ]
  },
  {
   "cell_type": "code",
   "execution_count": null,
   "metadata": {},
   "outputs": [],
   "source": [
    "vpop_mvn = virtual_population(\n",
    "    distributions=mvn_table,\n",
    "    proposal_distributions=histogram_table,\n",
    "    models='./fast_vpop_demo.model',\n",
    "    parameters= parameter_table,\n",
    "    proposal_method = \"ClassifierSurrogate\",\n",
    "    proposal_options = {'sample_n': 5000, 'max_iters': 10, 'init_batch_size': 1000, 'max_batch_size': 1000},\n",
    "    virtual_options = {'expected_n': 200},\n",
    "    seed=15,\n",
    ")"
   ]
  },
  {
   "cell_type": "code",
   "execution_count": null,
   "metadata": {},
   "outputs": [],
   "source": [
    "out = vpop_mvn.virtual_population_predictions()"
   ]
  },
  {
   "cell_type": "code",
   "execution_count": null,
   "metadata": {},
   "outputs": [],
   "source": [
    "x_prior, cdf_prior = to_cdf(prior_samples)\n",
    "x_vpop, cdf_vpop = to_cdf(out['output0_0:d'])\n",
    "plt.plot(x_vpop, cdf_vpop, label='Virtual Population')\n",
    "\n",
    "sample = np.random.multivariate_normal([5,5], [[1, .9], [.9, 1]], size=10000)\n",
    "x_mvn, cdf_mvn = to_cdf(sample[:, 0])\n",
    "plt.plot(x_mvn, cdf_mvn, label='True Distribution')\n",
    "\n",
    "plt.legend()\n",
    "plt.xlim([1.5, 8.5])\n",
    "plt.show()"
   ]
  }
 ],
 "metadata": {
  "iq": {
   "dependencies": [
    "clinical_empirical.csv",
    "fast_vpop_demo.model",
    "parameter_table_solution.csv"
   ]
  },
  "kernelspec": {
   "display_name": "Python",
   "language": "python",
   "name": "pixi-kernel-python3"
  },
  "language_info": {
   "codemirror_mode": {
    "name": "ipython",
    "version": 3
   },
   "file_extension": ".py",
   "mimetype": "text/x-python",
   "name": "python",
   "nbconvert_exporter": "python",
   "pygments_lexer": "ipython3",
   "version": "3.12.11"
  }
 },
 "nbformat": 4,
 "nbformat_minor": 4
}
