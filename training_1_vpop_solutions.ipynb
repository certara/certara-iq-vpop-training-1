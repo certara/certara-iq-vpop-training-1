{
 "cells": [
  {
   "cell_type": "markdown",
   "metadata": {
    "jp-MarkdownHeadingCollapsed": true
   },
   "source": [
    "## Setup and Utility"
   ]
  },
  {
   "cell_type": "code",
   "execution_count": 31,
   "metadata": {},
   "outputs": [],
   "source": [
    "from abm import virtual_population\n",
    "import pandas as pd\n",
    "from matplotlib import pyplot as plt\n",
    "import numpy as np"
   ]
  },
  {
   "cell_type": "code",
   "execution_count": null,
   "metadata": {},
   "outputs": [],
   "source": [
    "# Plotting and analysis utility\n",
    "def to_cdf(data):\n",
    "    data_sorted = np.sort(data)\n",
    "    n = len(data)\n",
    "    return data_sorted, np.linspace(1, n, n)/n"
   ]
  },
  {
   "cell_type": "markdown",
   "metadata": {},
   "source": [
    "## Task 1: load the parameter table from the dependencies"
   ]
  },
  {
   "cell_type": "code",
   "execution_count": 35,
   "metadata": {},
   "outputs": [
    {
     "data": {
      "text/html": [
       "<div>\n",
       "<style scoped>\n",
       "    .dataframe tbody tr th:only-of-type {\n",
       "        vertical-align: middle;\n",
       "    }\n",
       "\n",
       "    .dataframe tbody tr th {\n",
       "        vertical-align: top;\n",
       "    }\n",
       "\n",
       "    .dataframe thead th {\n",
       "        text-align: right;\n",
       "    }\n",
       "</style>\n",
       "<table border=\"1\" class=\"dataframe\">\n",
       "  <thead>\n",
       "    <tr style=\"text-align: right;\">\n",
       "      <th></th>\n",
       "      <th>parameter</th>\n",
       "      <th>unit</th>\n",
       "      <th>value</th>\n",
       "      <th>is_fit</th>\n",
       "      <th>prior</th>\n",
       "      <th>lower_bound</th>\n",
       "      <th>upper_bound</th>\n",
       "    </tr>\n",
       "  </thead>\n",
       "  <tbody>\n",
       "    <tr>\n",
       "      <th>0</th>\n",
       "      <td>dummy0</td>\n",
       "      <td>1</td>\n",
       "      <td>0</td>\n",
       "      <td>True</td>\n",
       "      <td>loguniformprior</td>\n",
       "      <td>2</td>\n",
       "      <td>10</td>\n",
       "    </tr>\n",
       "    <tr>\n",
       "      <th>1</th>\n",
       "      <td>dummy1</td>\n",
       "      <td>1</td>\n",
       "      <td>0</td>\n",
       "      <td>True</td>\n",
       "      <td>loguniformprior</td>\n",
       "      <td>2</td>\n",
       "      <td>10</td>\n",
       "    </tr>\n",
       "  </tbody>\n",
       "</table>\n",
       "</div>"
      ],
      "text/plain": [
       "  parameter  unit  value  is_fit            prior  lower_bound  upper_bound\n",
       "0    dummy0     1      0    True  loguniformprior            2           10\n",
       "1    dummy1     1      0    True  loguniformprior            2           10"
      ]
     },
     "metadata": {},
     "output_type": "display_data"
    }
   ],
   "source": [
    "# Use pd.read_csv to load the included dependency for the parameter table solution\n",
    "\n",
    "parameter_table = pd.read_csv('parameter_table_solution.csv')\n",
    "display(parameter_table)"
   ]
  },
  {
   "cell_type": "markdown",
   "metadata": {},
   "source": [
    "This is the same format as used for optimization earlier in the day. This defines a prior on your parameters."
   ]
  },
  {
   "cell_type": "markdown",
   "metadata": {},
   "source": [
    "## Task 2: build the table describing the clinical data you want to match\n",
    "This part of the example uses empirical distributions. See below for how to use a multivariate normal distribution that includes a fit of covariance."
   ]
  },
  {
   "cell_type": "code",
   "execution_count": 61,
   "metadata": {},
   "outputs": [
    {
     "data": {
      "text/html": [
       "<div>\n",
       "<style scoped>\n",
       "    .dataframe tbody tr th:only-of-type {\n",
       "        vertical-align: middle;\n",
       "    }\n",
       "\n",
       "    .dataframe tbody tr th {\n",
       "        vertical-align: top;\n",
       "    }\n",
       "\n",
       "    .dataframe thead th {\n",
       "        text-align: right;\n",
       "    }\n",
       "</style>\n",
       "<table border=\"1\" class=\"dataframe\">\n",
       "  <thead>\n",
       "    <tr style=\"text-align: right;\">\n",
       "      <th></th>\n",
       "      <th>output0_0:d</th>\n",
       "      <th>output1_0:d</th>\n",
       "    </tr>\n",
       "  </thead>\n",
       "  <tbody>\n",
       "    <tr>\n",
       "      <th>0</th>\n",
       "      <td>5.353005</td>\n",
       "      <td>5.405987</td>\n",
       "    </tr>\n",
       "    <tr>\n",
       "      <th>1</th>\n",
       "      <td>5.438402</td>\n",
       "      <td>5.382276</td>\n",
       "    </tr>\n",
       "    <tr>\n",
       "      <th>2</th>\n",
       "      <td>4.425038</td>\n",
       "      <td>4.635840</td>\n",
       "    </tr>\n",
       "    <tr>\n",
       "      <th>3</th>\n",
       "      <td>6.375106</td>\n",
       "      <td>5.082532</td>\n",
       "    </tr>\n",
       "    <tr>\n",
       "      <th>4</th>\n",
       "      <td>3.762521</td>\n",
       "      <td>3.979900</td>\n",
       "    </tr>\n",
       "  </tbody>\n",
       "</table>\n",
       "</div>"
      ],
      "text/plain": [
       "   output0_0:d  output1_0:d\n",
       "0     5.353005     5.405987\n",
       "1     5.438402     5.382276\n",
       "2     4.425038     4.635840\n",
       "3     6.375106     5.082532\n",
       "4     3.762521     3.979900"
      ]
     },
     "execution_count": 61,
     "metadata": {},
     "output_type": "execute_result"
    }
   ],
   "source": [
    "# The synthetic data for the toy illustration model has two outputs:\n",
    "# \"output0\" and \"output1\", they are suffixed with their time,\n",
    "# both at \"0 days\" --> common for reproducing baseline characteristics of a population\n",
    "\n",
    "synthetic_clinical = pd.read_csv('clinical_empirical.csv')\n",
    "synthetic_clinical.head()"
   ]
  },
  {
   "cell_type": "code",
   "execution_count": 51,
   "metadata": {},
   "outputs": [],
   "source": [
    "# Build an empirical distribution from the synthetic data\n",
    "# - Use np.percentile(...)\n",
    "# - Access a vector of clinical data using synthetic_clinical[ output column name ]\n",
    "# - Choose percentiles from 0 to 100 by 10s to create 11 \"bin edges\" for each output\n",
    "\n",
    "### Begin your edits\n",
    "\n",
    "edges_output_0 = np.percentile(synthetic_clinical['output0_0:d'], [0, 10, 20, 30, 40, 50, 60, 70, 80, 90, 100])\n",
    "edges_output_1 = np.percentile(synthetic_clinical['output1_0:d'], [0, 10, 20, 30, 40, 50, 60, 70, 80, 90, 100])\n",
    "\n",
    "### End your edits\n",
    "\n",
    "probs = [0.1] * 10 # python syntax to make a 10 element list of 0.1 probabiliteies\n",
    "\n",
    "# Simple code to build table; this could also be supplied as a CSV file dependency to reduce code.\n",
    "histogram_table = pd.DataFrame(dict(\n",
    "    target=['output0', 'output1'],\n",
    "    distribution=['HistogramDistribution', 'HistogramDistribution'],\n",
    "    distribution_unit = [1, 1],\n",
    "    bin_edges=[\n",
    "        list(edges_output_0),\n",
    "        list(edges_output_1),\n",
    "    ],\n",
    "    bin_probabilities=[\n",
    "        probs,\n",
    "        probs,\n",
    "    ],\n",
    "    time= [0, 0], # time of observations\n",
    "    time_unit = ['d', 'd'],\n",
    "    smoothness=[0,0],\n",
    "))"
   ]
  },
  {
   "cell_type": "code",
   "execution_count": 62,
   "metadata": {},
   "outputs": [
    {
     "data": {
      "text/html": [
       "<div>\n",
       "<style scoped>\n",
       "    .dataframe tbody tr th:only-of-type {\n",
       "        vertical-align: middle;\n",
       "    }\n",
       "\n",
       "    .dataframe tbody tr th {\n",
       "        vertical-align: top;\n",
       "    }\n",
       "\n",
       "    .dataframe thead th {\n",
       "        text-align: right;\n",
       "    }\n",
       "</style>\n",
       "<table border=\"1\" class=\"dataframe\">\n",
       "  <thead>\n",
       "    <tr style=\"text-align: right;\">\n",
       "      <th></th>\n",
       "      <th>target</th>\n",
       "      <th>distribution</th>\n",
       "      <th>distribution_unit</th>\n",
       "      <th>bin_edges</th>\n",
       "      <th>bin_probabilities</th>\n",
       "      <th>time</th>\n",
       "      <th>time_unit</th>\n",
       "      <th>smoothness</th>\n",
       "    </tr>\n",
       "  </thead>\n",
       "  <tbody>\n",
       "    <tr>\n",
       "      <th>0</th>\n",
       "      <td>output0</td>\n",
       "      <td>HistogramDistribution</td>\n",
       "      <td>1</td>\n",
       "      <td>[2.022595593299331, 3.5512370923705605, 3.9797...</td>\n",
       "      <td>[0.10000000000000002, 0.10000000000000002, 0.1...</td>\n",
       "      <td>0</td>\n",
       "      <td>d</td>\n",
       "      <td>0</td>\n",
       "    </tr>\n",
       "    <tr>\n",
       "      <th>1</th>\n",
       "      <td>output1</td>\n",
       "      <td>HistogramDistribution</td>\n",
       "      <td>1</td>\n",
       "      <td>[2.0083723381635705, 3.6633687847723504, 3.960...</td>\n",
       "      <td>[0.10000000000000002, 0.10000000000000002, 0.1...</td>\n",
       "      <td>0</td>\n",
       "      <td>d</td>\n",
       "      <td>0</td>\n",
       "    </tr>\n",
       "  </tbody>\n",
       "</table>\n",
       "</div>"
      ],
      "text/plain": [
       "    target           distribution  distribution_unit  \\\n",
       "0  output0  HistogramDistribution                  1   \n",
       "1  output1  HistogramDistribution                  1   \n",
       "\n",
       "                                           bin_edges  \\\n",
       "0  [2.022595593299331, 3.5512370923705605, 3.9797...   \n",
       "1  [2.0083723381635705, 3.6633687847723504, 3.960...   \n",
       "\n",
       "                                   bin_probabilities  time time_unit  \\\n",
       "0  [0.10000000000000002, 0.10000000000000002, 0.1...     0         d   \n",
       "1  [0.10000000000000002, 0.10000000000000002, 0.1...     0         d   \n",
       "\n",
       "   smoothness  \n",
       "0           0  \n",
       "1           0  "
      ]
     },
     "metadata": {},
     "output_type": "display_data"
    }
   ],
   "source": [
    "# Inspect the table defining the \"histogram\" or empirical distribution of the clinical data\n",
    "display(histogram_table)"
   ]
  },
  {
   "cell_type": "markdown",
   "metadata": {},
   "source": [
    "## Task 3: Run the virtual population with the provided defaults\n",
    "We would explore alternative configurations and when to use them in a longer course. "
   ]
  },
  {
   "cell_type": "code",
   "execution_count": 53,
   "metadata": {},
   "outputs": [
    {
     "data": {
      "text/plain": [
       "Total: 5379, Running: 0, Succeeded: 5034, Failed: 345"
      ]
     },
     "metadata": {},
     "output_type": "display_data"
    },
    {
     "data": {
      "text/plain": [
       "Total: 5033, Running: 0, Succeeded: 5033, Failed: 0"
      ]
     },
     "metadata": {},
     "output_type": "display_data"
    }
   ],
   "source": [
    "vpop = virtual_population(\n",
    "    distributions=histogram_table,\n",
    "    proposal_distributions=histogram_table,\n",
    "    models='./fast_vpop_demo.model',\n",
    "    parameters= parameter_table,\n",
    "    proposal_method = \"ClassifierSurrogate\",\n",
    "    proposal_options = {'sample_n': 5000, 'max_iters': 10, 'init_batch_size': 1000, 'max_batch_size': 1000},\n",
    "    virtual_options = {'expected_n': 200},\n",
    "    seed=15,\n",
    ")"
   ]
  },
  {
   "cell_type": "code",
   "execution_count": 54,
   "metadata": {},
   "outputs": [
    {
     "data": {
      "text/plain": [
       "Total: 197, Running: 0, Succeeded: 197, Failed: 0"
      ]
     },
     "metadata": {},
     "output_type": "display_data"
    }
   ],
   "source": [
    "out = vpop.virtual_population_predictions()"
   ]
  },
  {
   "cell_type": "markdown",
   "metadata": {},
   "source": [
    "## Plot and compare results"
   ]
  },
  {
   "cell_type": "code",
   "execution_count": 55,
   "metadata": {},
   "outputs": [],
   "source": [
    "prior_samples = np.exp(np.random.uniform(np.log(2), np.log(10), size=10000))"
   ]
  },
  {
   "cell_type": "code",
   "execution_count": 59,
   "metadata": {},
   "outputs": [
    {
     "data": {
      "image/png": "[encoded data removed]",
      "text/plain": [
       "<Figure size 640x480 with 1 Axes>"
      ]
     },
     "metadata": {},
     "output_type": "display_data"
    }
   ],
   "source": [
    "# Plot the cummulative distribution of the virtual popultion and the clinical population\n",
    "x_prior, cdf_prior = to_cdf(prior_samples)\n",
    "x_vpop, cdf_vpop = to_cdf(out['output0_0:d'])\n",
    "x_clinical, cdf_clinical = to_cdf(synthetic_clinical['output0_0:d'])\n",
    "\n",
    "plt.plot(x_vpop, cdf_vpop, label='Virtual Population')\n",
    "plt.plot(x_clinical, cdf_clinical, label='Clinical Distribution')\n",
    "\n",
    "\n",
    "#### Additional information for illustration\n",
    "\n",
    "# plt.plot(x_prior, cdf_prior, label='Prior')\n",
    "# for e in histogram_table.bin_edges[0]:\n",
    "#     plt.axvline(e, linestyle='--', color='k')\n",
    "\n",
    "plt.legend()\n",
    "plt.xlim([1.5, 8.5])\n",
    "plt.show()"
   ]
  },
  {
   "cell_type": "markdown",
   "metadata": {},
   "source": [
    "## Alternative Proposal Using MVN\n",
    "Many times, covarying observations are easier to model with multivariate normals. They are easier to interpet and computationally easier, but have less freedom than empirical distributions.\n",
    "\n",
    "Robust multivariate empirical distributions are on our roadmap."
   ]
  },
  {
   "cell_type": "code",
   "execution_count": 63,
   "metadata": {},
   "outputs": [
    {
     "data": {
      "text/html": [
       "<div>\n",
       "<style scoped>\n",
       "    .dataframe tbody tr th:only-of-type {\n",
       "        vertical-align: middle;\n",
       "    }\n",
       "\n",
       "    .dataframe tbody tr th {\n",
       "        vertical-align: top;\n",
       "    }\n",
       "\n",
       "    .dataframe thead th {\n",
       "        text-align: right;\n",
       "    }\n",
       "</style>\n",
       "<table border=\"1\" class=\"dataframe\">\n",
       "  <thead>\n",
       "    <tr style=\"text-align: right;\">\n",
       "      <th></th>\n",
       "      <th>target</th>\n",
       "      <th>distribution</th>\n",
       "      <th>distribution_unit</th>\n",
       "      <th>measurements</th>\n",
       "      <th>measurements_unit</th>\n",
       "      <th>covariance</th>\n",
       "      <th>time</th>\n",
       "      <th>time_unit</th>\n",
       "    </tr>\n",
       "  </thead>\n",
       "  <tbody>\n",
       "    <tr>\n",
       "      <th>0</th>\n",
       "      <td>[output0, output1]</td>\n",
       "      <td>MultivariateNormalDistribution</td>\n",
       "      <td>[1, 1]</td>\n",
       "      <td>[5, 5]</td>\n",
       "      <td>[1, 1]</td>\n",
       "      <td>[[1, 0.9], [0.9, 1]]</td>\n",
       "      <td>[0, 0]</td>\n",
       "      <td>[d, d]</td>\n",
       "    </tr>\n",
       "  </tbody>\n",
       "</table>\n",
       "</div>"
      ],
      "text/plain": [
       "               target                    distribution distribution_unit  \\\n",
       "0  [output0, output1]  MultivariateNormalDistribution            [1, 1]   \n",
       "\n",
       "  measurements measurements_unit            covariance    time time_unit  \n",
       "0       [5, 5]            [1, 1]  [[1, 0.9], [0.9, 1]]  [0, 0]    [d, d]  "
      ]
     },
     "metadata": {},
     "output_type": "display_data"
    }
   ],
   "source": [
    "mvn_table = pd.DataFrame(dict(\n",
    "    target=[['output0', 'output1']],\n",
    "    distribution=['MultivariateNormalDistribution'],\n",
    "    distribution_unit = [[1,1]],\n",
    "    measurements=[[5, 5]],\n",
    "    measurements_unit=[['1', '1']],\n",
    "    covariance=[\n",
    "        [[1, .9], [.9, 1]]\n",
    "    ],\n",
    "    time=[[time]*2],\n",
    "    time_unit=[['d', 'd']]\n",
    "))\n",
    "\n",
    "display(mvn_table)"
   ]
  },
  {
   "cell_type": "code",
   "execution_count": 12,
   "metadata": {},
   "outputs": [
    {
     "data": {
      "text/plain": [
       "Total: 0, Running: 0, Succeeded: 0, Failed: 0"
      ]
     },
     "metadata": {},
     "output_type": "display_data"
    },
    {
     "data": {
      "text/plain": [
       "Total: 0, Running: 0, Succeeded: 0, Failed: 0"
      ]
     },
     "metadata": {},
     "output_type": "display_data"
    }
   ],
   "source": [
    "vpop_mvn = virtual_population(\n",
    "    distributions=mvn_table,\n",
    "    proposal_distributions=histogram_table,\n",
    "    models='./fast_vpop_demo.model',\n",
    "    parameters= parameter_table,\n",
    "    proposal_method = \"ClassifierSurrogate\",\n",
    "    proposal_options = {'sample_n': 5000, 'max_iters': 10, 'init_batch_size': 1000, 'max_batch_size': 1000},\n",
    "    virtual_options = {'expected_n': 200},\n",
    "    seed=15,\n",
    ")"
   ]
  },
  {
   "cell_type": "code",
   "execution_count": 13,
   "metadata": {},
   "outputs": [
    {
     "data": {
      "text/plain": [
       "Total: 0, Running: 0, Succeeded: 0, Failed: 0"
      ]
     },
     "metadata": {},
     "output_type": "display_data"
    }
   ],
   "source": [
    "out = vpop_mvn.virtual_population_predictions()"
   ]
  },
  {
   "cell_type": "code",
   "execution_count": 64,
   "metadata": {},
   "outputs": [
    {
     "data": {
      "image/png": "[encoded data removed]",
      "text/plain": [
       "<Figure size 640x480 with 1 Axes>"
      ]
     },
     "metadata": {},
     "output_type": "display_data"
    }
   ],
   "source": [
    "x_prior, cdf_prior = to_cdf(prior_samples)\n",
    "x_vpop, cdf_vpop = to_cdf(out['output0_0:d'])\n",
    "plt.plot(x_vpop, cdf_vpop, label='Virtual Population')\n",
    "\n",
    "sample = np.random.multivariate_normal([5,5], [[1, .9], [.9, 1]], size=10000)\n",
    "x_mvn, cdf_mvn = to_cdf(sample[:, 0])\n",
    "plt.plot(x_mvn, cdf_mvn, label='True Distribution')\n",
    "\n",
    "plt.legend()\n",
    "plt.xlim([1.5, 8.5])\n",
    "plt.show()"
   ]
  }
 ],
 "metadata": {
  "iq": {
   "dependencies": [
    "clinical_empirical.csv",
    "fast_vpop_demo.model",
    "parameter_table_solution.csv"
   ]
  },
  "kernelspec": {
   "display_name": "Python",
   "language": "python",
   "name": "pixi-kernel-python3"
  },
  "language_info": {
   "codemirror_mode": {
    "name": "ipython",
    "version": 3
   },
   "file_extension": ".py",
   "mimetype": "text/x-python",
   "name": "python",
   "nbconvert_exporter": "python",
   "pygments_lexer": "ipython3",
   "version": "3.12.11"
  }
 },
 "nbformat": 4,
 "nbformat_minor": 4
}
